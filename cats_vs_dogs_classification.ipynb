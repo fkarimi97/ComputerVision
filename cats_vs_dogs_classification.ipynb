{
 "cells": [
  {
   "cell_type": "code",
   "execution_count": 2,
   "id": "consistent-senegal",
   "metadata": {},
   "outputs": [
    {
     "name": "stdout",
     "output_type": "stream",
     "text": [
      "total training cat images: 1000\n",
      "total training dog images: 1000\n",
      "total validation cat images: 500\n",
      "total validation dog images: 500\n",
      "total test cat images: 500\n",
      "total test dog images: 500\n"
     ]
    }
   ],
   "source": [
    "import os, shutil\n",
    "#Path to the directory where the original dataset was uncompressed\n",
    "original_dataset_dir = r'C:\\Users\\Farnoosh\\Desktop\\99_2\\MVision\\dogs-vs-cats\\train'\n",
    "#Directory where you’ll store your smaller dataset\n",
    "base_dir = r'C:\\Users\\Farnoosh\\Desktop\\99_2\\MVision\\cats_and_dogs_small'\n",
    "os.mkdir(base_dir)\n",
    "\n",
    "#Directories for the training,validation, and test splits\n",
    "train_dir = os.path.join(base_dir, 'train')\n",
    "os.mkdir(train_dir)\n",
    "validation_dir = os.path.join(base_dir, 'validation')\n",
    "os.mkdir(validation_dir)\n",
    "test_dir = os.path.join(base_dir, 'test')\n",
    "os.mkdir(test_dir)\n",
    "#Directory with training cat pictures\n",
    "train_cats_dir = os.path.join(train_dir, 'cats')\n",
    "os.mkdir(train_cats_dir)\n",
    "#Directory with training dog pictures\n",
    "train_dogs_dir = os.path.join(train_dir, 'dogs')\n",
    "os.mkdir(train_dogs_dir)\n",
    "#Directory with validation cat pictures\n",
    "validation_cats_dir = os.path.join(validation_dir, 'cats')\n",
    "os.mkdir(validation_cats_dir)\n",
    "#Directory with validation dog pictures\n",
    "validation_dogs_dir = os.path.join(validation_dir, 'dogs')\n",
    "os.mkdir(validation_dogs_dir)\n",
    "#Directory with test cat pictures\n",
    "test_cats_dir = os.path.join(test_dir, 'cats')\n",
    "os.mkdir(test_cats_dir)\n",
    "#Directory with test dog pictures\n",
    "test_dogs_dir = os.path.join(test_dir, 'dogs')\n",
    "os.mkdir(test_dogs_dir)\n",
    "#Copies the first 1,000 cat images to train_cats_dir\n",
    "fnames = ['cat.{}.jpg'.format(i) for i in range(1000)]\n",
    "for fname in fnames:\n",
    "    src = os.path.join(original_dataset_dir, fname)\n",
    "    dst = os.path.join(train_cats_dir, fname)\n",
    "    shutil.copyfile(src, dst)\n",
    "#Copies the next 500 cat images to validation_cats_dir    \n",
    "fnames = ['cat.{}.jpg'.format(i) for i in range(1000, 1500)]\n",
    "for fname in fnames:\n",
    "    src = os.path.join(original_dataset_dir, fname)\n",
    "    dst = os.path.join(validation_cats_dir, fname)\n",
    "    shutil.copyfile(src, dst)\n",
    "#Copies the next 500 cat images to test_cats_dir\n",
    "fnames = ['cat.{}.jpg'.format(i) for i in range(1500, 2000)]\n",
    "for fname in fnames:\n",
    "    src = os.path.join(original_dataset_dir, fname)\n",
    "    dst = os.path.join(test_cats_dir, fname)\n",
    "    shutil.copyfile(src, dst)\n",
    "#Copies the first 1,000 dog images to train_dogs_dir    \n",
    "fnames = ['dog.{}.jpg'.format(i) for i in range(1000)]\n",
    "for fname in fnames:\n",
    "    src = os.path.join(original_dataset_dir, fname)\n",
    "    dst = os.path.join(train_dogs_dir, fname)\n",
    "    shutil.copyfile(src, dst)\n",
    "#Copies the next 500 dog images to validation_dogs_dir\n",
    "fnames = ['dog.{}.jpg'.format(i) for i in range(1000, 1500)]\n",
    "for fname in fnames:\n",
    "    src = os.path.join(original_dataset_dir, fname)\n",
    "    dst = os.path.join(validation_dogs_dir, fname)\n",
    "    shutil.copyfile(src, dst)\n",
    "#Copies the next 500 dog images to test_dogs_dir\n",
    "fnames = ['dog.{}.jpg'.format(i) for i in range(1500, 2000)]\n",
    "for fname in fnames:\n",
    "    src = os.path.join(original_dataset_dir, fname)\n",
    "    dst = os.path.join(test_dogs_dir, fname)\n",
    "    shutil.copyfile(src, dst)\n",
    "#count how many pictures are in each training split    \n",
    "print('total training cat images:', len(os.listdir(train_cats_dir)))\n",
    "print('total training dog images:', len(os.listdir(train_dogs_dir)))\n",
    "print('total validation cat images:', len(os.listdir(validation_cats_dir)))\n",
    "print('total validation dog images:', len(os.listdir(validation_dogs_dir)))\n",
    "print('total test cat images:', len(os.listdir(test_cats_dir)))\n",
    "print('total test dog images:', len(os.listdir(test_dogs_dir)))"
   ]
  },
  {
   "cell_type": "code",
   "execution_count": 3,
   "id": "fixed-exhibit",
   "metadata": {},
   "outputs": [
    {
     "name": "stdout",
     "output_type": "stream",
     "text": [
      "Model: \"sequential\"\n",
      "_________________________________________________________________\n",
      "Layer (type)                 Output Shape              Param #   \n",
      "=================================================================\n",
      "conv2d (Conv2D)              (None, 148, 148, 32)      896       \n",
      "_________________________________________________________________\n",
      "max_pooling2d (MaxPooling2D) (None, 74, 74, 32)        0         \n",
      "_________________________________________________________________\n",
      "conv2d_1 (Conv2D)            (None, 72, 72, 64)        18496     \n",
      "_________________________________________________________________\n",
      "max_pooling2d_1 (MaxPooling2 (None, 36, 36, 64)        0         \n",
      "_________________________________________________________________\n",
      "conv2d_2 (Conv2D)            (None, 34, 34, 128)       73856     \n",
      "_________________________________________________________________\n",
      "max_pooling2d_2 (MaxPooling2 (None, 17, 17, 128)       0         \n",
      "_________________________________________________________________\n",
      "conv2d_3 (Conv2D)            (None, 15, 15, 128)       147584    \n",
      "_________________________________________________________________\n",
      "max_pooling2d_3 (MaxPooling2 (None, 7, 7, 128)         0         \n",
      "_________________________________________________________________\n",
      "flatten (Flatten)            (None, 6272)              0         \n",
      "_________________________________________________________________\n",
      "dense (Dense)                (None, 512)               3211776   \n",
      "_________________________________________________________________\n",
      "dense_1 (Dense)              (None, 1)                 513       \n",
      "=================================================================\n",
      "Total params: 3,453,121\n",
      "Trainable params: 3,453,121\n",
      "Non-trainable params: 0\n",
      "_________________________________________________________________\n"
     ]
    }
   ],
   "source": [
    "#Instantiating a small convnet for dogs vs. cats classification\n",
    "from keras import layers\n",
    "from keras import models\n",
    "model = models.Sequential()\n",
    "model.add(layers.Conv2D(32, (3, 3), activation='relu',\n",
    "input_shape=(150, 150, 3)))\n",
    "model.add(layers.MaxPooling2D((2, 2)))\n",
    "model.add(layers.Conv2D(64, (3, 3), activation='relu'))\n",
    "model.add(layers.MaxPooling2D((2, 2)))\n",
    "model.add(layers.Conv2D(128, (3, 3), activation='relu'))\n",
    "model.add(layers.MaxPooling2D((2, 2)))\n",
    "model.add(layers.Conv2D(128, (3, 3), activation='relu'))\n",
    "model.add(layers.MaxPooling2D((2, 2)))\n",
    "model.add(layers.Flatten())\n",
    "model.add(layers.Dense(512, activation='relu'))\n",
    "model.add(layers.Dense(1, activation='sigmoid'))\n",
    "model.summary()"
   ]
  },
  {
   "cell_type": "code",
   "execution_count": 4,
   "id": "minus-generator",
   "metadata": {},
   "outputs": [],
   "source": [
    "#Configuring the model for training\n",
    "from keras import optimizers\n",
    "model.compile(loss='binary_crossentropy', optimizer=optimizers.RMSprop(lr=1e-4), metrics=['acc'])"
   ]
  },
  {
   "cell_type": "code",
   "execution_count": 5,
   "id": "fifty-oxide",
   "metadata": {},
   "outputs": [
    {
     "name": "stdout",
     "output_type": "stream",
     "text": [
      "Found 2000 images belonging to 2 classes.\n",
      "Found 1000 images belonging to 2 classes.\n"
     ]
    }
   ],
   "source": [
    "#Using ImageDataGenerator to read images from directories\n",
    "from keras.preprocessing.image import ImageDataGenerator\n",
    "#Rescales all images by 1/255\n",
    "train_datagen = ImageDataGenerator(rescale=1./255)\n",
    "test_datagen = ImageDataGenerator(rescale=1./255)\n",
    "train_generator = train_datagen.flow_from_directory(\n",
    "    train_dir, # target directory\n",
    "    target_size=(150, 150), # Resizes all images to 150 × 150\n",
    "    batch_size=20,\n",
    "    class_mode='binary') # Because we use binary_crossentropy loss, we need binary labels.\n",
    "validation_generator = test_datagen.flow_from_directory(\n",
    "    validation_dir,target_size=(150, 150), batch_size=20, class_mode='binary')\n"
   ]
  },
  {
   "cell_type": "code",
   "execution_count": 6,
   "id": "pressed-european",
   "metadata": {},
   "outputs": [
    {
     "name": "stdout",
     "output_type": "stream",
     "text": [
      "WARNING:tensorflow:From <ipython-input-6-9889be409b5d>:1: Model.fit_generator (from tensorflow.python.keras.engine.training) is deprecated and will be removed in a future version.\n",
      "Instructions for updating:\n",
      "Please use Model.fit, which supports generators.\n",
      "Epoch 1/30\n",
      "100/100 [==============================] - 92s 922ms/step - loss: 0.6890 - acc: 0.5425 - val_loss: 0.6717 - val_acc: 0.5790\n",
      "Epoch 2/30\n",
      "100/100 [==============================] - 85s 853ms/step - loss: 0.6629 - acc: 0.5940 - val_loss: 0.6518 - val_acc: 0.6140\n",
      "Epoch 3/30\n",
      "100/100 [==============================] - 85s 848ms/step - loss: 0.6264 - acc: 0.6635 - val_loss: 0.6357 - val_acc: 0.6380\n",
      "Epoch 4/30\n",
      "100/100 [==============================] - 86s 855ms/step - loss: 0.5936 - acc: 0.6855 - val_loss: 0.6002 - val_acc: 0.6670\n",
      "Epoch 5/30\n",
      "100/100 [==============================] - 86s 860ms/step - loss: 0.5514 - acc: 0.7240 - val_loss: 0.5972 - val_acc: 0.6730\n",
      "Epoch 6/30\n",
      "100/100 [==============================] - 84s 843ms/step - loss: 0.5132 - acc: 0.7395 - val_loss: 0.5814 - val_acc: 0.6920\n",
      "Epoch 7/30\n",
      "100/100 [==============================] - 85s 854ms/step - loss: 0.4804 - acc: 0.7700 - val_loss: 0.5626 - val_acc: 0.7060\n",
      "Epoch 8/30\n",
      "100/100 [==============================] - 102s 1s/step - loss: 0.4509 - acc: 0.7885 - val_loss: 0.5672 - val_acc: 0.7110\n",
      "Epoch 9/30\n",
      "100/100 [==============================] - 98s 979ms/step - loss: 0.4243 - acc: 0.8055 - val_loss: 0.5471 - val_acc: 0.7340\n",
      "Epoch 10/30\n",
      "100/100 [==============================] - 127s 1s/step - loss: 0.4025 - acc: 0.8200 - val_loss: 0.5461 - val_acc: 0.7400\n",
      "Epoch 11/30\n",
      "100/100 [==============================] - 124s 1s/step - loss: 0.3741 - acc: 0.8340 - val_loss: 0.5621 - val_acc: 0.7260\n",
      "Epoch 12/30\n",
      "100/100 [==============================] - 120s 1s/step - loss: 0.3525 - acc: 0.8500 - val_loss: 0.6486 - val_acc: 0.6890\n",
      "Epoch 13/30\n",
      "100/100 [==============================] - 121s 1s/step - loss: 0.3199 - acc: 0.8660 - val_loss: 0.5531 - val_acc: 0.7450\n",
      "Epoch 14/30\n",
      "100/100 [==============================] - 124s 1s/step - loss: 0.3070 - acc: 0.8735 - val_loss: 0.5502 - val_acc: 0.7300\n",
      "Epoch 15/30\n",
      "100/100 [==============================] - 124s 1s/step - loss: 0.2824 - acc: 0.8845 - val_loss: 0.5687 - val_acc: 0.7250\n",
      "Epoch 16/30\n",
      "100/100 [==============================] - 124s 1s/step - loss: 0.2642 - acc: 0.8960 - val_loss: 0.6184 - val_acc: 0.7420\n",
      "Epoch 17/30\n",
      "100/100 [==============================] - 121s 1s/step - loss: 0.2409 - acc: 0.9060 - val_loss: 0.5945 - val_acc: 0.7440\n",
      "Epoch 18/30\n",
      "100/100 [==============================] - 121s 1s/step - loss: 0.2277 - acc: 0.9110 - val_loss: 0.5961 - val_acc: 0.7450\n",
      "Epoch 19/30\n",
      "100/100 [==============================] - 120s 1s/step - loss: 0.2024 - acc: 0.9220 - val_loss: 0.6208 - val_acc: 0.7450\n",
      "Epoch 20/30\n",
      "100/100 [==============================] - 124s 1s/step - loss: 0.1840 - acc: 0.9280 - val_loss: 0.6314 - val_acc: 0.7370\n",
      "Epoch 21/30\n",
      "100/100 [==============================] - 123s 1s/step - loss: 0.1618 - acc: 0.9445 - val_loss: 0.7074 - val_acc: 0.7190\n",
      "Epoch 22/30\n",
      "100/100 [==============================] - 122s 1s/step - loss: 0.1469 - acc: 0.9485 - val_loss: 0.6606 - val_acc: 0.7430\n",
      "Epoch 23/30\n",
      "100/100 [==============================] - 123s 1s/step - loss: 0.1277 - acc: 0.9590 - val_loss: 0.8419 - val_acc: 0.7030\n",
      "Epoch 24/30\n",
      "100/100 [==============================] - 121s 1s/step - loss: 0.1183 - acc: 0.9595 - val_loss: 0.9442 - val_acc: 0.6990\n",
      "Epoch 25/30\n",
      "100/100 [==============================] - 120s 1s/step - loss: 0.1070 - acc: 0.9655 - val_loss: 0.7662 - val_acc: 0.7250\n",
      "Epoch 26/30\n",
      "100/100 [==============================] - 123s 1s/step - loss: 0.0854 - acc: 0.9760 - val_loss: 0.8430 - val_acc: 0.7250\n",
      "Epoch 27/30\n",
      "100/100 [==============================] - 120s 1s/step - loss: 0.0736 - acc: 0.9760 - val_loss: 0.8121 - val_acc: 0.7380\n",
      "Epoch 28/30\n",
      "100/100 [==============================] - 122s 1s/step - loss: 0.0690 - acc: 0.9805 - val_loss: 0.8682 - val_acc: 0.7400\n",
      "Epoch 29/30\n",
      "100/100 [==============================] - 124s 1s/step - loss: 0.0536 - acc: 0.9870 - val_loss: 1.1380 - val_acc: 0.7040\n",
      "Epoch 30/30\n",
      "100/100 [==============================] - 121s 1s/step - loss: 0.0462 - acc: 0.9860 - val_loss: 1.3579 - val_acc: 0.6950\n"
     ]
    }
   ],
   "source": [
    "#Fitting the model using a batch generator\n",
    "history = model.fit_generator(\n",
    "train_generator,steps_per_epoch=100,epochs=30,validation_data = validation_generator,validation_steps=50)"
   ]
  },
  {
   "cell_type": "code",
   "execution_count": 7,
   "id": "crude-series",
   "metadata": {},
   "outputs": [],
   "source": [
    "model.save('cats_and_dogs_small_1.h5')"
   ]
  },
  {
   "cell_type": "code",
   "execution_count": 8,
   "id": "enormous-floating",
   "metadata": {},
   "outputs": [
    {
     "data": {
      "image/png": "[encoded data removed]",
      "text/plain": [
       "<Figure size 432x288 with 1 Axes>"
      ]
     },
     "metadata": {
      "needs_background": "light"
     },
     "output_type": "display_data"
    },
    {
     "data": {
      "image/png": "[encoded data removed]",
      "text/plain": [
       "<Figure size 432x288 with 1 Axes>"
      ]
     },
     "metadata": {
      "needs_background": "light"
     },
     "output_type": "display_data"
    }
   ],
   "source": [
    "# Displaying curves of loss and accuracy during training\n",
    "import matplotlib.pyplot as plt\n",
    "acc = history.history['acc']\n",
    "val_acc = history.history['val_acc']\n",
    "loss = history.history['loss']\n",
    "val_loss = history.history['val_loss']\n",
    "epochs = range(1, len(acc) + 1)\n",
    "plt.plot(epochs, acc, 'bo', label='Training acc')\n",
    "plt.plot(epochs, val_acc, 'b', label='Validation acc')\n",
    "plt.title('Training and validation accuracy')\n",
    "plt.legend()\n",
    "plt.figure()\n",
    "plt.plot(epochs, loss, 'bo', label='Training loss')\n",
    "plt.plot(epochs, val_loss, 'b', label='Validation loss')\n",
    "plt.title('Training and validation loss')\n",
    "plt.legend()\n",
    "plt.show()"
   ]
  },
  {
   "cell_type": "code",
   "execution_count": null,
   "id": "apart-going",
   "metadata": {},
   "outputs": [],
   "source": []
  },
  {
   "cell_type": "code",
   "execution_count": null,
   "id": "illegal-examination",
   "metadata": {},
   "outputs": [],
   "source": []
  }
 ],
 "metadata": {
  "kernelspec": {
   "display_name": "Python 3",
   "language": "python",
   "name": "python3"
  },
  "language_info": {
   "codemirror_mode": {
    "name": "ipython",
    "version": 3
   },
   "file_extension": ".py",
   "mimetype": "text/x-python",
   "name": "python",
   "nbconvert_exporter": "python",
   "pygments_lexer": "ipython3",
   "version": "3.8.5"
  }
 },
 "nbformat": 4,
 "nbformat_minor": 5
}
